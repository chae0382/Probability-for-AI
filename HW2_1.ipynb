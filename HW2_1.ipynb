{
 "cells": [
  {
   "cell_type": "markdown",
   "id": "42beb52d",
   "metadata": {},
   "source": [
    "## Part A. Preliminaries"
   ]
  },
  {
   "cell_type": "markdown",
   "id": "22e5ab1d",
   "metadata": {},
   "source": [
    "## 3. Acquiring dataset"
   ]
  },
  {
   "cell_type": "code",
   "execution_count": 1,
   "id": "255e924e",
   "metadata": {},
   "outputs": [],
   "source": [
    "import pandas as pd #data loader library\n",
    "import matplotlib.pyplot as plt #graph visualization library\n",
    "import numpy as np\n",
    "#iris dataset을 얻고 class별로 분리해놓는다.\n",
    "df = pd.read_csv('./iris/iris.data', names=['sepal length', 'sepal width', 'petal length', 'petal width', 'class'])\n",
    "se=df[df['class'] =='Iris-setosa']\n",
    "ve=df[df['class']=='Iris-versicolor']\n",
    "vi=df[df['class']=='Iris-virginica']"
   ]
  },
  {
   "cell_type": "markdown",
   "id": "a61d8e74",
   "metadata": {},
   "source": [
    "## Part B. Iris classification using text data"
   ]
  },
  {
   "cell_type": "markdown",
   "id": "b1a2e009",
   "metadata": {},
   "source": [
    "## 1."
   ]
  },
  {
   "cell_type": "markdown",
   "id": "42593aed",
   "metadata": {},
   "source": [
    "### Sepal Length \n",
    "- Histogram"
   ]
  },
  {
   "cell_type": "code",
   "execution_count": 2,
   "id": "748b3f5b",
   "metadata": {},
   "outputs": [
    {
     "name": "stdout",
     "output_type": "stream",
     "text": [
      "4.3\n",
      "5.8\n",
      "4.9\n",
      "7.0\n",
      "4.9\n",
      "7.9\n"
     ]
    }
   ],
   "source": [
    "#각 3개 클래스의 sepal length attribute의 최솟값과 최댓값을 본다.\n",
    "print(se['sepal length'].min())\n",
    "print(se['sepal length'].max())\n",
    "print(ve['sepal length'].min())\n",
    "print(ve['sepal length'].max())\n",
    "print(vi['sepal length'].min())\n",
    "print(vi['sepal length'].max())"
   ]
  },
  {
   "cell_type": "code",
   "execution_count": 3,
   "id": "4a60225f",
   "metadata": {},
   "outputs": [
    {
     "data": {
      "text/plain": [
       "<function matplotlib.pyplot.show(close=None, block=None)>"
      ]
     },
     "execution_count": 3,
     "metadata": {},
     "output_type": "execute_result"
    },
    {
     "data": {
      "image/png": "[encoded data removed]",
      "text/plain": [
       "<Figure size 432x288 with 1 Axes>"
      ]
     },
     "metadata": {
      "needs_background": "light"
     },
     "output_type": "display_data"
    }
   ],
   "source": [
    "#sepal length attribute에 대한 histogram을 그린다.\n",
    "plt.hist(se['sepal length'], label='setosa', alpha=0.4, bins=40, color='red', range=[4,8])\n",
    "plt.hist(ve['sepal length'], label='versicolor', alpha=0.4, bins=40, color='green', range = [4,8])\n",
    "plt.hist(vi['sepal length'], label='virginica', alpha=0.4, bins=40, color='blue', range = [4,8])\n",
    "plt.xlim([4,8])\n",
    "plt.legend()\n",
    "plt.show"
   ]
  },
  {
   "cell_type": "markdown",
   "id": "ab32567d",
   "metadata": {},
   "source": [
    "- Optimal decision boundaries"
   ]
  },
  {
   "cell_type": "code",
   "execution_count": 4,
   "id": "7f79c4ff",
   "metadata": {},
   "outputs": [
    {
     "name": "stdout",
     "output_type": "stream",
     "text": [
      "첫 번째 boundary :  5.5\n",
      "두 번째 boundary :  6.2\n",
      "cost :  38\n"
     ]
    },
    {
     "data": {
      "image/png": "[encoded data removed]",
      "text/plain": [
       "<Figure size 432x288 with 1 Axes>"
      ]
     },
     "metadata": {
      "needs_background": "light"
     },
     "output_type": "display_data"
    }
   ],
   "source": [
    "#for문을 돌려 2개의 optimal한 decision boundary를 찾는다.\n",
    "#cost는 misclassification된 instance 개수이다.\n",
    "#첫 번째 decision boundary는 4.3부터 7.0까지 0.1씩 증가시켜본다.\n",
    "#두 번째 decision boundary는 4.9부터 7.9까지 0.1씩 증가시켜본다.\n",
    "final_boundary1 = 0\n",
    "final_boundary2 = 0\n",
    "cost = 150\n",
    "boundary1 = 4.2\n",
    "for i in range(28):\n",
    "    boundary1 += 0.1\n",
    "    boundary1 = round(boundary1, 2)\n",
    "    boundary2 = 4.8\n",
    "    for j in range(31):\n",
    "        boundary2 += 0.1\n",
    "        boundary2 = round(boundary2, 2)\n",
    "        if boundary1 > boundary2 : continue\n",
    "        \n",
    "        #첫 번째 decision boundary 미만일 때 setosa class라고 분류한다.\n",
    "        se_p = df[df['sepal length'] < boundary1] #setosa positive\n",
    "        se_tp = se_p[se_p['class'] =='Iris-setosa'] #setosa true positive \n",
    "        \n",
    "        #첫 번째 decision boundary 이상이고 두 번째 decision boundary 미만일 때 versicolor class라고 분류한다.\n",
    "        temp = df[df['sepal length'] >= boundary1] #versicolor positive\n",
    "        ve_p = temp[temp['sepal length'] < boundary2] \n",
    "        ve_tp = ve_p[ve_p['class'] == 'Iris-versicolor'] #versicolor true positive\n",
    "        \n",
    "        #두 번째 decision boundary 이상일 때 virginica class라고 분류한다.\n",
    "        vi_p = df[df['sepal length'] >= boundary2] #virginica positive\n",
    "        vi_tp = vi_p[vi_p['class'] =='Iris-virginica'] #virginica true positive\n",
    "        \n",
    "        se_fp_n = len(se_p) - len(se_tp) #setosa false positive의 개수\n",
    "        ve_fp_n = len(ve_p) - len(ve_tp) #versicolor false positive의 개수\n",
    "        vi_fp_n = len(vi_p) - len(vi_tp) #virginica false positive의 개수\n",
    "        \n",
    "        c = se_fp_n + ve_fp_n + vi_fp_n #총 cost\n",
    "        \n",
    "        #cost가 제일 작은 것으로 decision boundary를 update해준다.\n",
    "        if c < cost :\n",
    "            cost = c\n",
    "            final_boundary1 = boundary1\n",
    "            final_boundary2 = boundary2\n",
    "            \n",
    "print(\"첫 번째 boundary : \", str(final_boundary1))\n",
    "print(\"두 번째 boundary : \", str(final_boundary2))\n",
    "print(\"cost : \", str(cost))\n",
    "\n",
    "#두 개의 decision boundary가 표시된 sepal length attribute에 대한 histogram을 그린다.\n",
    "plt.hist(se['sepal length'], label='setosa', alpha=0.4, bins=40, color='red', range=[4,8])\n",
    "plt.hist(ve['sepal length'], label='versicolor', alpha=0.4, bins=40, color='green', range = [4,8])\n",
    "plt.hist(vi['sepal length'], label='virginica', alpha=0.4, bins=40, color='blue', range = [4,8])\n",
    "plt.xlim([4,8])\n",
    "plt.vlines(final_boundary1, 0, 8, colors = 'black', linestyle = 'solid')\n",
    "plt.vlines(final_boundary2, 0, 8, colors = 'black', linestyle = 'solid')\n",
    "plt.title('Sepal Length Histogram')\n",
    "plt.legend()\n",
    "plt.show()\n"
   ]
  },
  {
   "cell_type": "markdown",
   "id": "d235d7a1",
   "metadata": {},
   "source": [
    "###  Sepal Width \n",
    "- Histogram"
   ]
  },
  {
   "cell_type": "code",
   "execution_count": 5,
   "id": "b671ac90",
   "metadata": {},
   "outputs": [
    {
     "name": "stdout",
     "output_type": "stream",
     "text": [
      "4.4\n",
      "2.3\n",
      "3.4\n",
      "2.0\n",
      "3.8\n",
      "2.2\n"
     ]
    }
   ],
   "source": [
    "#각 3개 클래스의 sepal width attribute의 최솟값과 최댓값을 본다.\n",
    "print(se['sepal width'].max())\n",
    "print(se['sepal width'].min())\n",
    "print(ve['sepal width'].max())\n",
    "print(ve['sepal width'].min())\n",
    "print(vi['sepal width'].max())\n",
    "print(vi['sepal width'].min())"
   ]
  },
  {
   "cell_type": "code",
   "execution_count": 6,
   "id": "dec2069d",
   "metadata": {},
   "outputs": [
    {
     "data": {
      "text/plain": [
       "<function matplotlib.pyplot.show(close=None, block=None)>"
      ]
     },
     "execution_count": 6,
     "metadata": {},
     "output_type": "execute_result"
    },
    {
     "data": {
      "image/png": "[encoded data removed]",
      "text/plain": [
       "<Figure size 432x288 with 1 Axes>"
      ]
     },
     "metadata": {
      "needs_background": "light"
     },
     "output_type": "display_data"
    }
   ],
   "source": [
    "#sepal width attribute에 대한 histogram을 그린다.\n",
    "plt.hist(se['sepal width'], label='setosa', alpha=0.4, bins=30, color='red', range=[2,5])\n",
    "plt.hist(ve['sepal width'], label='versicolor', alpha=0.4, bins=30, color='green', range = [2,5])\n",
    "plt.hist(vi['sepal width'], label='virginica', alpha=0.4, bins=30, color='blue', range = [2,5])\n",
    "plt.xlim([2,5])\n",
    "plt.legend()\n",
    "plt.show"
   ]
  },
  {
   "cell_type": "markdown",
   "id": "62b8880b",
   "metadata": {},
   "source": [
    "- Optimal decision boundaries"
   ]
  },
  {
   "cell_type": "code",
   "execution_count": 7,
   "id": "c70681f1",
   "metadata": {},
   "outputs": [
    {
     "name": "stdout",
     "output_type": "stream",
     "text": [
      "첫 번째 boundary :  3.0\n",
      "두 번째 boundary :  3.1\n",
      "cost :  62\n"
     ]
    },
    {
     "data": {
      "text/plain": [
       "<function matplotlib.pyplot.show(close=None, block=None)>"
      ]
     },
     "execution_count": 7,
     "metadata": {},
     "output_type": "execute_result"
    },
    {
     "data": {
      "image/png": "[encoded data removed]",
      "text/plain": [
       "<Figure size 432x288 with 1 Axes>"
      ]
     },
     "metadata": {
      "needs_background": "light"
     },
     "output_type": "display_data"
    }
   ],
   "source": [
    "#for문을 돌려 2개의 optimal한 decision boundary를 찾는다.\n",
    "#cost는 misclassification된 instance 개수이다.\n",
    "#첫 번째 decision boundary는 2.0부터 3.8까지 0.1씩 증가시켜본다.\n",
    "#두 번째 decision boundary는 2.2부터 4.4까지 0.1씩 증가시켜본다.\n",
    "final_boundary1 = 0\n",
    "final_boundary2 = 0\n",
    "cost = 150\n",
    "boundary1 = 1.9\n",
    "for i in range(19):\n",
    "    boundary1 += 0.1\n",
    "    boundary1 = round(boundary1, 2)\n",
    "    boundary2 = 2.1\n",
    "    for j in range(23):\n",
    "        boundary2 += 0.1\n",
    "        boundary2 = round(boundary2, 2)\n",
    "        if boundary1 > boundary2 : continue\n",
    "            \n",
    "        #첫 번째 decision boundary 미만일 때 versicolor class라고 분류한다.\n",
    "        ve_p = df[df['sepal width'] < boundary1] #versicolor positive\n",
    "        ve_tp = ve_p[ve_p['class'] =='Iris-versicolor'] #versicolor true positive\n",
    "        \n",
    "        #첫 번째 decision boundary 이상이고 두 번째 decision boundary 미만일 때 virginica class라고 분류한다.\n",
    "        temp = df[df['sepal width'] >= boundary1] #virginica positive\n",
    "        vi_p = temp[temp['sepal width'] < boundary2]\n",
    "        vi_tp = vi_p[vi_p['class'] == 'Iris-virginica'] #virginica true positive\n",
    "        \n",
    "        #두 번째 decision boundary 이상일 때 setosa class라고 분류한다.\n",
    "        se_p = df[df['sepal width'] >= boundary2] #setosa positive\n",
    "        se_tp = se_p[se_p['class'] =='Iris-setosa'] #setosa true positive\n",
    "        \n",
    "        se_fp_n = len(se_p) - len(se_tp) #setosa false positive의 개수\n",
    "        ve_fp_n = len(ve_p) - len(ve_tp) #versicolor false positive의 개수\n",
    "        vi_fp_n = len(vi_p) - len(vi_tp) #virginica false positive의 개수\n",
    "        \n",
    "        c = se_fp_n + ve_fp_n + vi_fp_n #총 cost\n",
    "        #cost가 제일 작은 것으로 decision boundary를 update해준다.\n",
    "        if c < cost :\n",
    "            cost = c\n",
    "            final_boundary1 = boundary1\n",
    "            final_boundary2 = boundary2\n",
    "            \n",
    "print(\"첫 번째 boundary : \", str(final_boundary1))\n",
    "print(\"두 번째 boundary : \", str(final_boundary2))\n",
    "print(\"cost : \", str(cost))\n",
    "\n",
    "#두 개의 decision boundary가 표시된 sepal width attribute에 대한 histogram을 그린다.\n",
    "plt.hist(se['sepal width'], label='setosa', alpha=0.4, bins=30, color='red', range=[2,5])\n",
    "plt.hist(ve['sepal width'], label='versicolor', alpha=0.4, bins=30, color='green', range = [2,5])\n",
    "plt.hist(vi['sepal width'], label='virginica', alpha=0.4, bins=30, color='blue', range = [2,5])\n",
    "plt.xlim([2,5])\n",
    "plt.vlines(final_boundary1, 0, 12, colors = 'black', linestyle = 'solid')\n",
    "plt.vlines(final_boundary2, 0, 12, colors = 'black', linestyle = 'solid')\n",
    "plt.title('Sepal Width Histogram')\n",
    "plt.legend()\n",
    "plt.show"
   ]
  },
  {
   "cell_type": "markdown",
   "id": "2371504f",
   "metadata": {},
   "source": [
    "###  Petal Length \n",
    "- Histogram"
   ]
  },
  {
   "cell_type": "code",
   "execution_count": 8,
   "id": "3ab74429",
   "metadata": {},
   "outputs": [
    {
     "name": "stdout",
     "output_type": "stream",
     "text": [
      "1.9\n",
      "1.0\n",
      "5.1\n",
      "3.0\n",
      "6.9\n",
      "4.5\n"
     ]
    }
   ],
   "source": [
    "#각 3개 클래스의 petal length attribute의 최솟값과 최댓값을 본다.\n",
    "print(se['petal length'].max())\n",
    "print(se['petal length'].min())\n",
    "print(ve['petal length'].max())\n",
    "print(ve['petal length'].min())\n",
    "print(vi['petal length'].max())\n",
    "print(vi['petal length'].min())"
   ]
  },
  {
   "cell_type": "code",
   "execution_count": 9,
   "id": "2cb80c9d",
   "metadata": {},
   "outputs": [
    {
     "data": {
      "text/plain": [
       "<function matplotlib.pyplot.show(close=None, block=None)>"
      ]
     },
     "execution_count": 9,
     "metadata": {},
     "output_type": "execute_result"
    },
    {
     "data": {
      "image/png": "[encoded data removed]",
      "text/plain": [
       "<Figure size 432x288 with 1 Axes>"
      ]
     },
     "metadata": {
      "needs_background": "light"
     },
     "output_type": "display_data"
    }
   ],
   "source": [
    "#petal length attribute에 대한 histogram을 그린다.\n",
    "plt.hist(se['petal length'], label='setosa', alpha=0.4, bins=60, color = 'red', range=[1,7])\n",
    "plt.hist(ve['petal length'], label='versicolor', alpha=0.4, bins=60, color = 'green', range = [1,7])\n",
    "plt.hist(vi['petal length'], label='virginica', alpha=0.4, bins=60, color = 'blue', range = [1,7])\n",
    "plt.xlim([1,7])\n",
    "plt.legend()\n",
    "plt.show"
   ]
  },
  {
   "cell_type": "markdown",
   "id": "59862e48",
   "metadata": {},
   "source": [
    "- Optimal decision boundaries"
   ]
  },
  {
   "cell_type": "code",
   "execution_count": 10,
   "id": "e25001a2",
   "metadata": {},
   "outputs": [
    {
     "name": "stdout",
     "output_type": "stream",
     "text": [
      "첫 번째 boundary :  2.0\n",
      "두 번째 boundary :  4.8\n",
      "cost :  7\n"
     ]
    },
    {
     "data": {
      "text/plain": [
       "<function matplotlib.pyplot.show(close=None, block=None)>"
      ]
     },
     "execution_count": 10,
     "metadata": {},
     "output_type": "execute_result"
    },
    {
     "data": {
      "image/png": "[encoded data removed]",
      "text/plain": [
       "<Figure size 432x288 with 1 Axes>"
      ]
     },
     "metadata": {
      "needs_background": "light"
     },
     "output_type": "display_data"
    }
   ],
   "source": [
    "#for문을 돌려 2개의 optimal한 decision boundary를 찾는다.\n",
    "#cost는 misclassification된 instance 개수이다.\n",
    "#첫 번째 decision boundary는 1.0부터 5.1까지 0.1씩 증가시켜본다.\n",
    "#두 번째 decision boundary는 3.0부터 6.9까지 0.1씩 증가시켜본다.\n",
    "final_boundary1 = 0\n",
    "final_boundary2 = 0\n",
    "cost = 150\n",
    "boundary1 = 0.9\n",
    "for i in range(42):\n",
    "    boundary1 += 0.1\n",
    "    boundary1 = round(boundary1, 2)\n",
    "    boundary2 = 2.9\n",
    "    for j in range(40):\n",
    "        boundary2 += 0.1\n",
    "        boundary2 = round(boundary2, 2)\n",
    "        if boundary1 > boundary2 : continue\n",
    "        \n",
    "        #첫 번째 decision boundary 미만일 때 setosa class라고 분류한다.\n",
    "        se_p = df[df['petal length'] < boundary1] #setosa positive\n",
    "        se_tp = se_p[se_p['class'] =='Iris-setosa'] #setosa true positive\n",
    "        \n",
    "        #첫 번째 decision boundary 이상이고 두 번째 decision boundary 미만일 때 versicolor class라고 분류한다.\n",
    "        temp = df[df['petal length'] >= boundary1] #versicolor positive\n",
    "        ve_p = temp[temp['petal length'] < boundary2]\n",
    "        ve_tp = ve_p[ve_p['class'] == 'Iris-versicolor'] #versicolor true positive\n",
    "        \n",
    "        #두 번째 decision boundary 이상일 때 virginica class라고 분류한다.\n",
    "        vi_p = df[df['petal length'] >= boundary2] #virginica positive\n",
    "        vi_tp = vi_p[vi_p['class'] =='Iris-virginica'] #virginica true positive\n",
    "        \n",
    "        se_fp_n = len(se_p) - len(se_tp) #setosa false positive의 개수\n",
    "        ve_fp_n = len(ve_p) - len(ve_tp) #versicolor false positive의 개수\n",
    "        vi_fp_n = len(vi_p) - len(vi_tp) #virginica false positive의 개수\n",
    "        \n",
    "        c = se_fp_n + ve_fp_n + vi_fp_n #총 cost\n",
    "        #cost가 제일 작은 것으로 decision boundary를 update해준다.\n",
    "        if c < cost :\n",
    "            cost = c\n",
    "            final_boundary1 = boundary1\n",
    "            final_boundary2 = boundary2\n",
    "            \n",
    "print(\"첫 번째 boundary : \", str(final_boundary1))\n",
    "print(\"두 번째 boundary : \", str(final_boundary2))\n",
    "print(\"cost : \", str(cost))\n",
    "\n",
    "#두 개의 decision boundary가 표시된 petal length attribute에 대한 histogram을 그린다.\n",
    "plt.hist(se['petal length'], label='setosa', alpha=0.4, bins=60, color = 'red', range=[1,7])\n",
    "plt.hist(ve['petal length'], label='versicolor', alpha=0.4, bins=60, color = 'green', range = [1,7])\n",
    "plt.hist(vi['petal length'], label='virginica', alpha=0.4, bins=60, color = 'blue', range = [1,7])\n",
    "plt.xlim([1,7])\n",
    "plt.vlines(final_boundary1, 0, 14, colors = 'black', linestyle = 'solid')\n",
    "plt.vlines(final_boundary2, 0, 14, colors = 'black', linestyle = 'solid')\n",
    "plt.title('Petal Length Histogram')\n",
    "plt.legend()\n",
    "plt.show"
   ]
  },
  {
   "cell_type": "markdown",
   "id": "2a3e632f",
   "metadata": {},
   "source": [
    "###  Petal Width \n",
    "- Histogram"
   ]
  },
  {
   "cell_type": "code",
   "execution_count": 11,
   "id": "12652a4a",
   "metadata": {},
   "outputs": [
    {
     "name": "stdout",
     "output_type": "stream",
     "text": [
      "0.6\n",
      "0.1\n",
      "1.8\n",
      "1.0\n",
      "2.5\n",
      "1.4\n"
     ]
    }
   ],
   "source": [
    "#각 3개 클래스의 petal width attribute의 최솟값과 최댓값을 본다.\n",
    "print(se['petal width'].max())\n",
    "print(se['petal width'].min())\n",
    "print(ve['petal width'].max())\n",
    "print(ve['petal width'].min())\n",
    "print(vi['petal width'].max())\n",
    "print(vi['petal width'].min())"
   ]
  },
  {
   "cell_type": "code",
   "execution_count": 12,
   "id": "b3debd0c",
   "metadata": {},
   "outputs": [
    {
     "data": {
      "text/plain": [
       "<function matplotlib.pyplot.show(close=None, block=None)>"
      ]
     },
     "execution_count": 12,
     "metadata": {},
     "output_type": "execute_result"
    },
    {
     "data": {
      "image/png": "[encoded data removed]",
      "text/plain": [
       "<Figure size 432x288 with 1 Axes>"
      ]
     },
     "metadata": {
      "needs_background": "light"
     },
     "output_type": "display_data"
    }
   ],
   "source": [
    "#petal width attribute에 대한 histogram을 그린다.\n",
    "plt.hist(se['petal width'], label='setosa', alpha=0.4, bins=30, color='red', range=[0,3])\n",
    "plt.hist(ve['petal width'], label='versicolor', alpha=0.4, bins=30, color='green', range = [0,3])\n",
    "plt.hist(vi['petal width'], label='virginica', alpha=0.4, bins=30, color='blue', range = [0,3])\n",
    "plt.xlim([0,3])\n",
    "plt.legend()\n",
    "plt.show"
   ]
  },
  {
   "cell_type": "markdown",
   "id": "bf7bc6cf",
   "metadata": {},
   "source": [
    "- Optimal decision boundaries"
   ]
  },
  {
   "cell_type": "code",
   "execution_count": 13,
   "id": "3e41adf7",
   "metadata": {},
   "outputs": [
    {
     "name": "stdout",
     "output_type": "stream",
     "text": [
      "첫 번째 boundary :  0.7\n",
      "두 번째 boundary :  1.7\n",
      "cost :  6\n"
     ]
    },
    {
     "data": {
      "text/plain": [
       "<function matplotlib.pyplot.show(close=None, block=None)>"
      ]
     },
     "execution_count": 13,
     "metadata": {},
     "output_type": "execute_result"
    },
    {
     "data": {
      "image/png": "[encoded data removed]",
      "text/plain": [
       "<Figure size 432x288 with 1 Axes>"
      ]
     },
     "metadata": {
      "needs_background": "light"
     },
     "output_type": "display_data"
    }
   ],
   "source": [
    "#for문을 돌려 2개의 optimal한 decision boundary를 찾는다.\n",
    "#cost는 misclassification된 instance 개수이다.\n",
    "#첫 번째 decision boundary는 0.1부터 1.8까지 0.1씩 증가시켜본다.\n",
    "#두 번째 decision boundary는 1.0부터 2.5까지 0.1씩 증가시켜본다.\n",
    "final_boundary1 = 0\n",
    "final_boundary2 = 0\n",
    "cost = 150\n",
    "boundary1 = 0.0\n",
    "for i in range(18):\n",
    "    boundary1 += 0.1\n",
    "    boundary1 = round(boundary1, 2)\n",
    "    boundary2 = 0.9\n",
    "    for j in range(16):\n",
    "        boundary2 += 0.1\n",
    "        boundary2 = round(boundary2, 2)\n",
    "        if boundary1 > boundary2 : continue\n",
    "        \n",
    "        #첫 번째 decision boundary 미만일 때 setosa class라고 분류한다.\n",
    "        se_p = df[df['petal width'] < boundary1] #setosa positive\n",
    "        se_tp = se_p[se_p['class'] =='Iris-setosa'] #setosa true positive\n",
    "        \n",
    "        #첫 번째 decision boundary 이상이고 두 번째 decision boundary 미만일 때 versicolor class라고 분류한다.\n",
    "        temp = df[df['petal width'] >= boundary1] #versicolor positive\n",
    "        ve_p = temp[temp['petal width'] < boundary2]\n",
    "        ve_tp = ve_p[ve_p['class'] == 'Iris-versicolor'] #versicolor true positive\n",
    "        \n",
    "        #두 번째 decision boundary 이상일 때 virginica class라고 분류한다.\n",
    "        vi_p = df[df['petal width'] >= boundary2] #virginica positive\n",
    "        vi_tp = vi_p[vi_p['class'] =='Iris-virginica'] #virginica true positive\n",
    "        \n",
    "        se_fp_n = len(se_p) - len(se_tp) #setosa false positive의 개수\n",
    "        ve_fp_n = len(ve_p) - len(ve_tp) #versicolor false positive의 개수\n",
    "        vi_fp_n = len(vi_p) - len(vi_tp) #virginica false positive의 개수\n",
    "        \n",
    "        c = se_fp_n + ve_fp_n + vi_fp_n #총 cost\n",
    "        #cost가 제일 작은 것으로 decision boundary를 update해준다.\n",
    "        if c < cost :\n",
    "            cost = c\n",
    "            final_boundary1 = boundary1\n",
    "            final_boundary2 = boundary2\n",
    "print(\"첫 번째 boundary : \", str(final_boundary1))\n",
    "print(\"두 번째 boundary : \", str(final_boundary2))\n",
    "print(\"cost : \", str(cost))\n",
    "\n",
    "#두 개의 decision boundary가 표시된 petal width attribute에 대한 histogram을 그린다.\n",
    "plt.hist(se['petal width'], label='setosa', alpha=0.4, bins=30, color = 'red', range=[0,3])\n",
    "plt.hist(ve['petal width'], label='versicolor', alpha=0.4, bins=30, color = 'green', range = [0,3])\n",
    "plt.hist(vi['petal width'], label='virginica', alpha=0.4, bins=30, color = 'blue', range = [0,3])\n",
    "plt.xlim([0,3])\n",
    "plt.vlines(final_boundary1, 0, 35, colors = 'black', linestyle = 'solid')\n",
    "plt.vlines(final_boundary2, 0, 35, colors = 'black', linestyle = 'solid')\n",
    "plt.title('Petal Width Histogram')\n",
    "plt.legend()\n",
    "plt.show"
   ]
  }
 ],
 "metadata": {
  "kernelspec": {
   "display_name": "Python 3 (ipykernel)",
   "language": "python",
   "name": "python3"
  },
  "language_info": {
   "codemirror_mode": {
    "name": "ipython",
    "version": 3
   },
   "file_extension": ".py",
   "mimetype": "text/x-python",
   "name": "python",
   "nbconvert_exporter": "python",
   "pygments_lexer": "ipython3",
   "version": "3.9.0"
  }
 },
 "nbformat": 4,
 "nbformat_minor": 5
}
